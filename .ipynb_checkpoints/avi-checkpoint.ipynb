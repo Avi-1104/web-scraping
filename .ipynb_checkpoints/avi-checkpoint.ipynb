{
 "cells": [
  {
   "cell_type": "code",
   "execution_count": 1,
   "id": "1ff3736a",
   "metadata": {},
   "outputs": [
    {
     "name": "stdout",
     "output_type": "stream",
     "text": [
      "Defaulting to user installation because normal site-packages is not writeable\n",
      "Collecting bs4\n",
      "  Using cached bs4-0.0.1.tar.gz (1.1 kB)\n",
      "  Preparing metadata (setup.py): started\n",
      "  Preparing metadata (setup.py): finished with status 'done'\n",
      "Requirement already satisfied: beautifulsoup4 in d:\\anaconda\\lib\\site-packages (from bs4) (4.12.2)\n",
      "Requirement already satisfied: soupsieve>1.2 in d:\\anaconda\\lib\\site-packages (from beautifulsoup4->bs4) (2.4)\n",
      "Building wheels for collected packages: bs4\n",
      "  Building wheel for bs4 (setup.py): started\n",
      "  Building wheel for bs4 (setup.py): finished with status 'done'\n",
      "  Created wheel for bs4: filename=bs4-0.0.1-py3-none-any.whl size=1264 sha256=6fefc7e37c5f85b0d3ee39c84b64274c12af1fec538887529bb3c5648c6ed69e\n",
      "  Stored in directory: c:\\users\\admin\\appdata\\local\\pip\\cache\\wheels\\d4\\c8\\5b\\b5be9c20e5e4503d04a6eac8a3cd5c2393505c29f02bea0960\n",
      "Successfully built bs4\n",
      "Installing collected packages: bs4\n",
      "Successfully installed bs4-0.0.1\n"
     ]
    }
   ],
   "source": [
    "!pip install bs4"
   ]
  },
  {
   "cell_type": "code",
   "execution_count": 2,
   "id": "06e89fa0",
   "metadata": {},
   "outputs": [
    {
     "name": "stdout",
     "output_type": "stream",
     "text": [
      "Defaulting to user installation because normal site-packages is not writeable\n",
      "Requirement already satisfied: requests in d:\\anaconda\\lib\\site-packages (2.31.0)\n",
      "Requirement already satisfied: charset-normalizer<4,>=2 in d:\\anaconda\\lib\\site-packages (from requests) (2.0.4)\n",
      "Requirement already satisfied: idna<4,>=2.5 in d:\\anaconda\\lib\\site-packages (from requests) (3.4)\n",
      "Requirement already satisfied: urllib3<3,>=1.21.1 in d:\\anaconda\\lib\\site-packages (from requests) (1.26.16)\n",
      "Requirement already satisfied: certifi>=2017.4.17 in d:\\anaconda\\lib\\site-packages (from requests) (2023.11.17)\n"
     ]
    }
   ],
   "source": [
    "!pip install requests\n"
   ]
  },
  {
   "cell_type": "code",
   "execution_count": 3,
   "id": "24a8646a",
   "metadata": {
    "scrolled": true
   },
   "outputs": [
    {
     "name": "stdout",
     "output_type": "stream",
     "text": [
      "Defaulting to user installation because normal site-packages is not writeable\n",
      "Requirement already satisfied: pandas in d:\\anaconda\\lib\\site-packages (2.0.3)\n",
      "Requirement already satisfied: python-dateutil>=2.8.2 in d:\\anaconda\\lib\\site-packages (from pandas) (2.8.2)\n",
      "Requirement already satisfied: pytz>=2020.1 in d:\\anaconda\\lib\\site-packages (from pandas) (2023.3.post1)\n",
      "Requirement already satisfied: tzdata>=2022.1 in d:\\anaconda\\lib\\site-packages (from pandas) (2023.3)\n",
      "Requirement already satisfied: numpy>=1.21.0 in d:\\anaconda\\lib\\site-packages (from pandas) (1.24.3)\n",
      "Requirement already satisfied: six>=1.5 in d:\\anaconda\\lib\\site-packages (from python-dateutil>=2.8.2->pandas) (1.16.0)\n"
     ]
    }
   ],
   "source": [
    "!pip install pandas"
   ]
  },
  {
   "cell_type": "code",
   "execution_count": 1,
   "id": "d450524b",
   "metadata": {},
   "outputs": [
    {
     "name": "stdout",
     "output_type": "stream",
     "text": [
      "\f",
      "\n"
     ]
    }
   ],
   "source": [
    "clear"
   ]
  },
  {
   "cell_type": "code",
   "execution_count": 1,
   "id": "7f931a0e",
   "metadata": {},
   "outputs": [
    {
     "name": "stdout",
     "output_type": "stream",
     "text": [
      "['APPLE iPhone 12 (Blue, 128 GB)', 'Nothing Phone (2) (Dark Grey, 512 GB)', 'SAMSUNG Galaxy Z Flip3 5G (Cream, 128 GB)', 'Google Pixel 7 (Lemongrass, 128 GB)', 'Google Pixel 7 (Snow, 128 GB)', 'Google Pixel 7 (Obsidian, 128 GB)', 'SAMSUNG Galaxy S22 5G (Phantom White, 128 GB)', 'SAMSUNG Galaxy A54 5G (Awesome Lime, 256 GB)', 'SAMSUNG Galaxy Z Flip3 5G (Phantom Black, 128 GB)', 'SAMSUNG Galaxy S22 5G (Green, 128 GB)', 'SAMSUNG Galaxy S22 5G (Phantom Black, 128 GB)', 'vivo V29 Pro 5G (Blue, 256 GB)', 'Nothing Phone (2) (White, 512 GB)', 'vivo V29 Pro 5G (Black, 256 GB)', 'OnePlus 10 Pro 5G (Emerald Forest, 128 GB)', 'OnePlus 10 Pro 5G (Emerald Forest, 128 GB)', 'APPLE iPhone 11 (White, 128 GB)', 'OnePlus 10T 5G (Moonstone Black, 256 GB)', 'OnePlus 10 Pro 5G (Volcanic Black, 128 GB)', 'OnePlus 10 Pro 5G (Volcanic Black, 128 GB)', 'APPLE iPhone 12 (Black, 128 GB)', 'Mi 10T Pro (Cosmic Black, 128 GB)', 'APPLE iPhone 12 (Red, 128 GB)', 'Tecno Phantom X2 Pro Retractable 50MP Portrait Lens (Mars Orange, 256 GB)']\n",
      "24\n",
      "[b'\\xe2\\x82\\xb948,999', b'\\xe2\\x82\\xb949,999', b'\\xe2\\x82\\xb945,999', b'\\xe2\\x82\\xb949,999', b'\\xe2\\x82\\xb949,999', b'\\xe2\\x82\\xb949,999', b'\\xe2\\x82\\xb949,999', b'\\xe2\\x82\\xb937,499', b'\\xe2\\x82\\xb945,999', b'\\xe2\\x82\\xb949,999', b'\\xe2\\x82\\xb949,999', b'\\xe2\\x82\\xb942,999', b'\\xe2\\x82\\xb949,999', b'\\xe2\\x82\\xb942,999', b'\\xe2\\x82\\xb945,970', b'\\xe2\\x82\\xb945,990', b'\\xe2\\x82\\xb948,900', b'\\xe2\\x82\\xb947,999', b'\\xe2\\x82\\xb942,887', b'\\xe2\\x82\\xb945,885', b'\\xe2\\x82\\xb949,999', b'\\xe2\\x82\\xb947,999', b'\\xe2\\x82\\xb949,999', b'\\xe2\\x82\\xb941,999']\n",
      "24\n"
     ]
    }
   ],
   "source": [
    "import pandas as pandas\n",
    "import requests\n",
    "from bs4 import BeautifulSoup\n",
    "import pprint\n",
    "\n",
    "Product_name=[]\n",
    "Prices=[]\n",
    "Description=[]\n",
    "Reviews=[]\n",
    "# for i in range(2,10) :\n",
    "\n",
    "url=\"https://www.flipkart.com/search?q=mobile%20under%2050000&otracker=search&otracker1=search&marketplace=FLIPKART&as-show=on&as=off&page=\"+str(1)\n",
    "\n",
    "r=requests.get(url)\n",
    "\n",
    "soup=BeautifulSoup(r.text,\"lxml\")\n",
    "\n",
    "names=soup.find_all(\"div\",class_=\"_4rR01T\")\n",
    "for i in names :\n",
    "    name=i.text\n",
    "    Product_name.append(name)\n",
    "\n",
    "print(Product_name)\n",
    "print(len(Product_name))\n",
    "\n",
    "prices=soup.find_all(\"div\",class_=\"_30jeq3 _1_WHN1\")\n",
    "for i in prices :\n",
    "    price=i.text.strip().encode(\"utf-8\")\n",
    "    Prices.append(price)\n",
    "print(Prices)\n",
    "print(len(Prices))\n",
    "\n",
    "\n",
    "\n",
    "\n",
    "\n",
    "\n",
    "\n",
    "\n",
    "\n",
    "\n",
    "    # np=soup.find(\"a\",class_=\"_1LKTO3\").get(\"href\")\n",
    "    # cnp=\"https://www.flipkart.com\"+np\n",
    "\n",
    "    # print(cnp)\n",
    "\n",
    "    # url=cnp\n",
    "    # r=requests.get(url)\n",
    "    # soup=BeautifulSoup(r.text,\"lxml\")\n"
   ]
  },
  {
   "cell_type": "code",
   "execution_count": 2,
   "id": "a1dd8312",
   "metadata": {},
   "outputs": [
    {
     "name": "stdout",
     "output_type": "stream",
     "text": [
      "Amazon: Error - 'NoneType' object has no attribute 'getText'\n"
     ]
    }
   ],
   "source": [
    "import requests\n",
    "from bs4 import BeautifulSoup\n",
    "\n",
    "headers = {'User-Agent': 'Mozilla/5.0 (Windows NT 10.0; Win64; x64) AppleWebKit/537.36 (KHTML, like Gecko) Chrome/120.0.0.0 Safari/537.36'}\n",
    "\n",
    "def get_amazon_product_info(name):\n",
    "    try:\n",
    "        name1 = name.replace(\" \", \"+\")\n",
    "        amazon_url = f'https://www.amazon.in/s?k={name1}'\n",
    "        res = requests.get(amazon_url, headers=headers)\n",
    "        soup = BeautifulSoup(res.text, 'html.parser')\n",
    "\n",
    "        amazon_results = soup.find_all('div', {'data-asin': True})\n",
    "        for result in amazon_results:\n",
    "            amazon_name_element = result.select_one('.a-text-normal')\n",
    "            if amazon_name_element:\n",
    "                amazon_name = amazon_name_element.getText().strip().upper()\n",
    "                if name.upper() in amazon_name:\n",
    "                    amazon_price = result.select_one('.a-offscreen').getText().strip()\n",
    "                    return amazon_name, amazon_price\n",
    "\n",
    "    except Exception as e:\n",
    "        print(f\"Amazon: Error - {e}\")\n",
    "\n",
    "    return None, None\n",
    "\n",
    "# ... (rest of the code remains the same)\n"
   ]
  },
  {
   "cell_type": "code",
   "execution_count": null,
   "id": "9bdfc70c",
   "metadata": {},
   "outputs": [],
   "source": []
  }
 ],
 "metadata": {
  "kernelspec": {
   "display_name": "Python 3 (ipykernel)",
   "language": "python",
   "name": "python3"
  },
  "language_info": {
   "codemirror_mode": {
    "name": "ipython",
    "version": 3
   },
   "file_extension": ".py",
   "mimetype": "text/x-python",
   "name": "python",
   "nbconvert_exporter": "python",
   "pygments_lexer": "ipython3",
   "version": "3.11.5"
  }
 },
 "nbformat": 4,
 "nbformat_minor": 5
}
