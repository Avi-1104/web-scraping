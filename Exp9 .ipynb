{
 "cells": [
  {
   "cell_type": "code",
   "execution_count": 2,
   "id": "4efcfa7d",
   "metadata": {},
   "outputs": [
    {
     "name": "stdout",
     "output_type": "stream",
     "text": [
      "Defaulting to user installation because normal site-packages is not writeable\n",
      "Requirement already satisfied: textblob in c:\\users\\admin\\appdata\\roaming\\python\\python311\\site-packages (0.18.0.post0)\n",
      "Requirement already satisfied: nltk>=3.8 in d:\\anaconda\\lib\\site-packages (from textblob) (3.8.1)\n",
      "Requirement already satisfied: click in d:\\anaconda\\lib\\site-packages (from nltk>=3.8->textblob) (8.0.4)\n",
      "Requirement already satisfied: joblib in d:\\anaconda\\lib\\site-packages (from nltk>=3.8->textblob) (1.2.0)\n",
      "Requirement already satisfied: regex>=2021.8.3 in d:\\anaconda\\lib\\site-packages (from nltk>=3.8->textblob) (2022.7.9)\n",
      "Requirement already satisfied: tqdm in d:\\anaconda\\lib\\site-packages (from nltk>=3.8->textblob) (4.65.0)\n",
      "Requirement already satisfied: colorama in d:\\anaconda\\lib\\site-packages (from click->nltk>=3.8->textblob) (0.4.6)\n"
     ]
    }
   ],
   "source": [
    "!pip install textblob\n"
   ]
  },
  {
   "cell_type": "code",
   "execution_count": 3,
   "id": "1058c6fc",
   "metadata": {},
   "outputs": [],
   "source": [
    "from textblob import TextBlob"
   ]
  },
  {
   "cell_type": "code",
   "execution_count": 4,
   "id": "afa97775",
   "metadata": {},
   "outputs": [
    {
     "name": "stdout",
     "output_type": "stream",
     "text": [
      "His could be a multiline text or paragraph copy\n",
      "from wiki\n",
      "or something else what ever you like.\n",
      "Good Eye\n"
     ]
    }
   ],
   "source": [
    "from textblob import TextBlob\n",
    "\n",
    "blob = TextBlob(\"\"\"This could be a multiline text or paragraph copy\n",
    "from wiki\n",
    "or something else what ever you like.\n",
    "Good Bye\"\"\")\n",
    "corrected_blob = blob.correct()\n",
    "print(corrected_blob)\n"
   ]
  },
  {
   "cell_type": "code",
   "execution_count": 5,
   "id": "4bfc90cf",
   "metadata": {},
   "outputs": [
    {
     "name": "stdout",
     "output_type": "stream",
     "text": [
      "Word and tag tuples:\n",
      "[('This', 'DT'), ('could', 'MD'), ('be', 'VB'), ('a', 'DT'), ('multiline', 'JJ'), ('text', 'NN'), ('or', 'CC'), ('paragraph', 'NN'), ('copy', 'NN'), ('from', 'IN'), ('wiki', 'NN'), ('or', 'CC'), ('something', 'NN'), ('else', 'RB'), ('what', 'WP'), ('ever', 'RB'), ('you', 'PRP'), ('like', 'VBP'), ('Good', 'JJ'), ('Bye', 'NNP')]\n",
      "\n",
      "Noun phrases:\n",
      "['multiline text', 'paragraph copy', 'bye']\n"
     ]
    }
   ],
   "source": [
    "from textblob import TextBlob\n",
    "\n",
    "blob = TextBlob(\"\"\"This could be a multiline text or paragraph copy\n",
    "from wiki\n",
    "or something else what ever you like.\n",
    "Good Bye\"\"\")\n",
    "\n",
    "# Getting list of tuples containing words and their tags\n",
    "tags = blob.tags\n",
    "print(\"Word and tag tuples:\")\n",
    "print(tags)\n",
    "\n",
    "# Getting words used as nouns\n",
    "noun_phrases = blob.noun_phrases\n",
    "print(\"\\nNoun phrases:\")\n",
    "print(noun_phrases)\n"
   ]
  },
  {
   "cell_type": "code",
   "execution_count": 6,
   "id": "d928563d",
   "metadata": {},
   "outputs": [
    {
     "data": {
      "text/plain": [
       "defaultdict(int,\n",
       "            {'this': 1,\n",
       "             'could': 1,\n",
       "             'be': 1,\n",
       "             'a': 1,\n",
       "             'multiline': 1,\n",
       "             'text': 1,\n",
       "             'or': 2,\n",
       "             'paragraph': 1,\n",
       "             'copy': 1,\n",
       "             'from': 1,\n",
       "             'wiki': 1,\n",
       "             'something': 1,\n",
       "             'else': 1,\n",
       "             'what': 1,\n",
       "             'ever': 1,\n",
       "             'you': 1,\n",
       "             'like': 1,\n",
       "             'good': 1,\n",
       "             'bye': 1})"
      ]
     },
     "execution_count": 6,
     "metadata": {},
     "output_type": "execute_result"
    }
   ],
   "source": [
    "blob.sentences\n",
    "blob.words\n",
    "blob.word_counts\n"
   ]
  },
  {
   "cell_type": "code",
   "execution_count": 7,
   "id": "41293bb9",
   "metadata": {},
   "outputs": [
    {
     "name": "stdout",
     "output_type": "stream",
     "text": [
      "Sentiment(polarity=0.0, subjectivity=0.0)\n",
      "Sentiment(polarity=0.7, subjectivity=0.6000000000000001)\n"
     ]
    }
   ],
   "source": [
    "for sentence in blob.sentences:\n",
    "     print(sentence.sentiment)"
   ]
  },
  {
   "cell_type": "code",
   "execution_count": 8,
   "id": "844e46e1",
   "metadata": {},
   "outputs": [
    {
     "name": "stdout",
     "output_type": "stream",
     "text": [
      "Sentiment(polarity=0.0, subjectivity=0.0)\n",
      "Sentiment(polarity=0.7, subjectivity=0.6000000000000001)\n"
     ]
    }
   ],
   "source": [
    "from textblob import TextBlob\n",
    "\n",
    "blob = TextBlob(\"\"\"This could be a multiline text or paragraph copy\n",
    "from wiki\n",
    "or something else what ever you like.\n",
    "Good Bye\"\"\")\n",
    "\n",
    "for sentence in blob.sentences:\n",
    "    print(sentence.sentiment)\n"
   ]
  },
  {
   "cell_type": "code",
   "execution_count": 9,
   "id": "7c61be05",
   "metadata": {},
   "outputs": [
    {
     "name": "stdout",
     "output_type": "stream",
     "text": [
      "Singular form of the first word: Thi\n",
      "Plural form of the last word: likes\n",
      "Lemmatized form of 'octopi': octopus\n",
      "Lemmatized form of 'done' as a verb: do\n",
      "Definitions of the word 'Beautiful': ['delighting the senses or exciting intellectual or emotional admiration', '(of weather) highly enjoyable']\n"
     ]
    }
   ],
   "source": [
    "from textblob import Word, TextBlob\n",
    "\n",
    "# Singularize the first word in the first sentence\n",
    "singular_first_word = blob.sentences[0].words[0].singularize()\n",
    "print(\"Singular form of the first word:\", singular_first_word)\n",
    "\n",
    "# Pluralize the last word in the first sentence\n",
    "plural_last_word = blob.sentences[0].words[-1].pluralize()\n",
    "print(\"Plural form of the last word:\", plural_last_word)\n",
    "\n",
    "# Lemmatize a word \"octopi\"\n",
    "w = Word(\"octopi\")\n",
    "lemmatized_word = w.lemmatize()\n",
    "print(\"Lemmatized form of 'octopi':\", lemmatized_word)\n",
    "\n",
    "# Lemmatize a word \"done\" specifying its part of speech as verb ('v')\n",
    "w = Word(\"done\")\n",
    "lemmatized_verb = w.lemmatize(\"v\")\n",
    "print(\"Lemmatized form of 'done' as a verb:\", lemmatized_verb)\n",
    "\n",
    "# Definitions of the word \"Beautiful\"\n",
    "definitions = Word(\"Beautiful\").definitions\n",
    "print(\"Definitions of the word 'Beautiful':\", definitions)\n"
   ]
  },
  {
   "cell_type": "code",
   "execution_count": 10,
   "id": "a3c4b093",
   "metadata": {},
   "outputs": [
    {
     "name": "stdout",
     "output_type": "stream",
     "text": [
      "[Synset('smart.a.01'), Synset('chic.s.01'), Synset('bright.s.03'), Synset('fresh.s.12'), Synset('smart.s.05'), Synset('smart.s.06'), Synset('smart.s.07')]\n"
     ]
    }
   ],
   "source": [
    "from textblob.wordnet import VERB, ADJ, ADV, NOUN\n",
    "from textblob import Word\n",
    "\n",
    "w = Word(\"Smart\")\n",
    "synset = w.get_synsets(pos=ADJ)\n",
    "print(synset)\n"
   ]
  },
  {
   "cell_type": "code",
   "execution_count": null,
   "id": "51beb98f",
   "metadata": {},
   "outputs": [],
   "source": []
  },
  {
   "cell_type": "code",
   "execution_count": null,
   "id": "143e027f",
   "metadata": {},
   "outputs": [],
   "source": []
  }
 ],
 "metadata": {
  "kernelspec": {
   "display_name": "Python 3 (ipykernel)",
   "language": "python",
   "name": "python3"
  },
  "language_info": {
   "codemirror_mode": {
    "name": "ipython",
    "version": 3
   },
   "file_extension": ".py",
   "mimetype": "text/x-python",
   "name": "python",
   "nbconvert_exporter": "python",
   "pygments_lexer": "ipython3",
   "version": "3.11.5"
  }
 },
 "nbformat": 4,
 "nbformat_minor": 5
}
